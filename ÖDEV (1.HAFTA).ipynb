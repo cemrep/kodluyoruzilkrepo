{
 "cells": [
  {
   "cell_type": "markdown",
   "id": "7664e1ed-15af-448e-a5cf-7944fcc3a3cf",
   "metadata": {},
   "source": [
    "# **ÖDEV (1.HAFTA)**"
   ]
  },
  {
   "cell_type": "markdown",
   "id": "867899b1-2885-4470-956d-91b816ab51c5",
   "metadata": {
    "id": "39f94c75-97f6-4ad4-81c8-302be5c6fa77",
    "tags": []
   },
   "source": [
    "1- İki çocuğunun yaşları toplamı 5'tir. 3 yıl sonra babanın yaşı çocukların yaşları toplamının 3 katı olacağına göre babanın bugünkü yaşı kaçtır? \n",
    "\n",
    "Denklemi python dilinde kurunuz ve çıktıyı print ediniz. "
   ]
  },
  {
   "cell_type": "code",
   "execution_count": 3,
   "id": "ef7a5a27-541b-4b09-96da-d982527a9e5f",
   "metadata": {},
   "outputs": [
    {
     "name": "stdout",
     "output_type": "stream",
     "text": [
      "30\n"
     ]
    }
   ],
   "source": [
    "ctoplam= 5\n",
    "b=((ctoplam+2*3)*3)-3\n",
    "print(b)"
   ]
  },
  {
   "cell_type": "markdown",
   "id": "301c8cbd-6617-4f3b-bd7e-e1ebc252c69d",
   "metadata": {
    "id": "6fb2cb52-65f0-4a80-a4f4-f31f7b70bf5f"
   },
   "source": [
    "2-_Veri bilimi, verilerden değer elde etmek için istatistik, bilimsel yöntemler, yapay zeka (AI) ve veri analizi dahil olmak üzere birçok alanı bir araya getirir. Veri Bilimiyle uğraşan kişilere veri bilimci denir. Bu kişiler web, akıllı telefonlar, müşteriler, sensörler ve diğer kaynaklardan toplanan verileri analiz etmek ve bunlardan eyleme dönüştürülebilir içgörüler üretmek amacıyla bir dizi beceriyi bir araya getirir._\n",
    "\n",
    "Yukarıda yer alan metindeki \"veri bilim\" kelimelerini bulup yerine \"VERİ BİLİM\" yazınız."
   ]
  },
  {
   "cell_type": "code",
   "execution_count": 4,
   "id": "864f66bd-c02c-4846-8043-84ba3b7cccc9",
   "metadata": {},
   "outputs": [
    {
     "data": {
      "text/plain": [
       "'Veri bilimi, verilerden değer elde etmek için istatistik, bilimsel yöntemler, yapay zeka (AI) ve veri analizi dahil olmak üzere birçok alanı bir araya getirir. Veri Bilimiyle uğraşan kişilere VERİ BİLİMci denir. Bu kişiler web, akıllı telefonlar, müşteriler, sensörler ve diğer kaynaklardan toplanan verileri analiz etmek ve bunlardan eyleme dönüştürülebilir içgörüler üretmek amacıyla bir dizi beceriyi bir araya getirir.'"
      ]
     },
     "execution_count": 4,
     "metadata": {},
     "output_type": "execute_result"
    }
   ],
   "source": [
    "#2. soru \n",
    "\n",
    "a=\"Veri bilimi, verilerden değer elde etmek için istatistik, bilimsel yöntemler, yapay zeka (AI) ve veri analizi dahil olmak üzere birçok alanı bir araya getirir. Veri Bilimiyle uğraşan kişilere veri bilimci denir. Bu kişiler web, akıllı telefonlar, müşteriler, sensörler ve diğer kaynaklardan toplanan verileri analiz etmek ve bunlardan eyleme dönüştürülebilir içgörüler üretmek amacıyla bir dizi beceriyi bir araya getirir.\"\n",
    "\n",
    "a.replace(\"veri bilim\",\"VERİ BİLİM\")"
   ]
  },
  {
   "cell_type": "markdown",
   "id": "9e1b9eb4-caf3-49b5-8180-55fe6595515e",
   "metadata": {
    "id": "bc97013a-39a7-465c-89e4-41420aaa2655"
   },
   "source": [
    "3- Adını, soyadını, yaşını, yaşadığın şehri ve üniversite ortalamanı aralarında birer boşluk olacak şekilde tek bir print ifade içerisinde yazın."
   ]
  },
  {
   "cell_type": "code",
   "execution_count": 7,
   "id": "80e0be2f-09c2-4f93-b4dc-a514fddab201",
   "metadata": {},
   "outputs": [
    {
     "name": "stdout",
     "output_type": "stream",
     "text": [
      "Cemre   Erdoğan   27   Eskişehir   2,82\n"
     ]
    }
   ],
   "source": [
    "ad = \"Cemre\" \n",
    "soyad = \"Erdoğan\" \n",
    "yas = \"27\"\n",
    "sehir = \"Eskişehir\" \n",
    "ortalama = \"2,82\"\n",
    "\n",
    "print(ad,\" \",soyad,\" \",yas,\" \",sehir,\" \",ortalama)\n"
   ]
  },
  {
   "cell_type": "markdown",
   "id": "92c851d1-873a-49b7-bc1c-b0cce03a893f",
   "metadata": {
    "id": "29ec9965-6933-45d7-9496-c42e94045e19"
   },
   "source": [
    "4- Veri bilimi günümüzün en heyecan verici alanlardan biridir.\n",
    "\n",
    "\"Veri bilimi\" ve \"alanlardan biridir.\" kelimelerini cümle içerisinden alınız ve her kelimeyi uzunlukları kadar aşağı doğru çoğaltarak print ediniz.\n",
    "\n",
    "NOT: \"\\n\" ifadesi alt satıra geçer "
   ]
  },
  {
   "cell_type": "code",
   "execution_count": 4,
   "id": "39782ced-f01a-42eb-bc5a-f5389055b265",
   "metadata": {
    "tags": []
   },
   "outputs": [
    {
     "name": "stdout",
     "output_type": "stream",
     "text": [
      "Veri bilimi\n",
      "Veri bilimi\n",
      "Veri bilimi\n",
      "Veri bilimi\n",
      "Veri bilimi\n",
      "Veri bilimi\n",
      "Veri bilimi\n",
      "Veri bilimi\n",
      "Veri bilimi\n",
      "Veri bilimi\n",
      "Veri bilimi\n",
      "\n"
     ]
    }
   ],
   "source": [
    "a=\"Veri bilimi günümüzün en heyecan verici alanlardan biridir.\"\n",
    "vb=a[:11]\n",
    "x=f\"{vb}\\n\"*len(vb)\n",
    "print(x) "
   ]
  },
  {
   "cell_type": "code",
   "execution_count": 9,
   "id": "0aa1394b-bd0c-46af-8e2a-95d045fdee55",
   "metadata": {},
   "outputs": [
    {
     "name": "stdout",
     "output_type": "stream",
     "text": [
      "alanlardan biridir.\n",
      "alanlardan biridir.\n",
      "alanlardan biridir.\n",
      "alanlardan biridir.\n",
      "alanlardan biridir.\n",
      "alanlardan biridir.\n",
      "alanlardan biridir.\n",
      "alanlardan biridir.\n",
      "alanlardan biridir.\n",
      "alanlardan biridir.\n",
      "alanlardan biridir.\n",
      "alanlardan biridir.\n",
      "alanlardan biridir.\n",
      "alanlardan biridir.\n",
      "alanlardan biridir.\n",
      "alanlardan biridir.\n",
      "alanlardan biridir.\n",
      "alanlardan biridir.\n",
      "alanlardan biridir.\n",
      "\n"
     ]
    }
   ],
   "source": [
    "a=\"Veri bilimi günümüzün en heyecan verici alanlardan biridir.\"\n",
    "ab=a[-19:]\n",
    "x=f\"{ab}\\n\"*len(ab)\n",
    "print(x)"
   ]
  },
  {
   "cell_type": "markdown",
   "id": "f1978d1a-72e9-4f39-8c4f-5c33a1de2507",
   "metadata": {
    "id": "932dee64-3a37-41f6-8fc6-465f3c9560de"
   },
   "source": [
    "5- \"veri bilimi\" ve \"VERİ BİLİMİ\" kelimelerinden hangisi büyük hangisi küçük harf ile yazılmış kontrol ediniz.  \n",
    "\n",
    "Not: Hangi fonksiyonu kullanmanız gerektiğini dir() bulabilirsiniz. "
   ]
  },
  {
   "cell_type": "code",
   "execution_count": 21,
   "id": "e68ae4d3-cadf-41a3-8b7c-a636a7ae984d",
   "metadata": {
    "tags": []
   },
   "outputs": [
    {
     "data": {
      "text/plain": [
       "False"
      ]
     },
     "execution_count": 21,
     "metadata": {},
     "output_type": "execute_result"
    }
   ],
   "source": [
    "a=\"veri bilimi\"\n",
    "a.isupper()"
   ]
  },
  {
   "cell_type": "code",
   "execution_count": 22,
   "id": "883df93a-f963-4b26-965b-e29ab4b77bf6",
   "metadata": {},
   "outputs": [
    {
     "data": {
      "text/plain": [
       "True"
      ]
     },
     "execution_count": 22,
     "metadata": {},
     "output_type": "execute_result"
    }
   ],
   "source": [
    "b=\"VERİ BİLİMİ\"\n",
    "b.isupper()"
   ]
  },
  {
   "cell_type": "markdown",
   "id": "06eed364-c09d-4596-bbec-8558c59eda95",
   "metadata": {
    "tags": []
   },
   "source": [
    "6- adınız, soyadınız, yaşınız, yaşadğınız şehir ve universite not ortalamanız ile bir liste oluşturunuz. Oluşturduğunuz listeyi \"listem\" değişkeni olarak kaydedeiniz."
   ]
  },
  {
   "cell_type": "code",
   "execution_count": 95,
   "id": "ceeda87a-b728-4a80-a8ea-12a38fd38440",
   "metadata": {},
   "outputs": [
    {
     "name": "stdout",
     "output_type": "stream",
     "text": [
      "['Cemre', 'Erdoğan', '27', 'Eskişehir', '2.82']\n"
     ]
    }
   ],
   "source": [
    "a=[\"Cemre\",\"Erdoğan\",\"27\",\"Eskişehir\",\"2.82\"]\n",
    "listem=a.copy()\n",
    "print(listem)"
   ]
  },
  {
   "cell_type": "markdown",
   "id": "21afac76-6ebb-4f45-bd50-07101121556f",
   "metadata": {},
   "source": [
    "7- \"listem\" değişkeni içerisinden yaşınızı, yaşadığınız şehiri ve universite not ortalamanızı seçerek \"listem2\" değişkenini oluşturunuz. "
   ]
  },
  {
   "cell_type": "code",
   "execution_count": 108,
   "id": "380177e4-23b2-4351-a6f4-53bc8a18e03e",
   "metadata": {},
   "outputs": [
    {
     "name": "stdout",
     "output_type": "stream",
     "text": [
      "['27', 'Eskişehir', '2.82']\n"
     ]
    }
   ],
   "source": [
    "listem2=a[2:]\n",
    "print(listem2)"
   ]
  },
  {
   "cell_type": "markdown",
   "id": "fa762a13-5d06-4571-bccb-d2a8dadbc1f6",
   "metadata": {},
   "source": [
    "8- \"listem2\" değişkeninin her bir elamanının türlerini yazdırınız."
   ]
  },
  {
   "cell_type": "code",
   "execution_count": 109,
   "id": "6ecf0ed7-4d6a-4cdf-a878-dc31f885df52",
   "metadata": {},
   "outputs": [
    {
     "name": "stdout",
     "output_type": "stream",
     "text": [
      "<class 'str'>\n",
      "<class 'str'>\n",
      "<class 'str'>\n"
     ]
    }
   ],
   "source": [
    "for eleman in listem2:\n",
    "    print(type(eleman))\n",
    "   "
   ]
  },
  {
   "cell_type": "markdown",
   "id": "3240b4e0-401c-4881-a9c1-ea2c0a0d520c",
   "metadata": {},
   "source": [
    "9- \"listem2\" değişkenine aşağıdaki listeyi LİSTE olarak ekleyiniz."
   ]
  },
  {
   "cell_type": "code",
   "execution_count": 110,
   "id": "b637b0c2-f310-4f58-9e87-8fa6813a5c12",
   "metadata": {},
   "outputs": [],
   "source": [
    "eklenecek_liste = [\"Ali\", 90, \"Mehmet\"]"
   ]
  },
  {
   "cell_type": "code",
   "execution_count": 111,
   "id": "a560c753-3611-4b31-abdc-fcec7c37036c",
   "metadata": {},
   "outputs": [
    {
     "data": {
      "text/plain": [
       "[['27', 'Eskişehir', '2.82'], ['Ali', 90, 'Mehmet']]"
      ]
     },
     "execution_count": 111,
     "metadata": {},
     "output_type": "execute_result"
    }
   ],
   "source": [
    "listem2=[listem2,eklenecek_liste]\n",
    "listem2"
   ]
  },
  {
   "cell_type": "markdown",
   "id": "1bd608d6-a894-45ea-9361-b289f10399dd",
   "metadata": {},
   "source": [
    "10- \"listem2\" değişkeninin içinden \"Ali\" ve \"90\" ı seçip Listem3 değişkenine atayınız. "
   ]
  },
  {
   "cell_type": "code",
   "execution_count": 112,
   "id": "539215bc-65d3-43ff-96bd-bc552e00d0d6",
   "metadata": {},
   "outputs": [
    {
     "data": {
      "text/plain": [
       "['Ali', 90]"
      ]
     },
     "execution_count": 112,
     "metadata": {},
     "output_type": "execute_result"
    }
   ],
   "source": [
    "listem3=listem2[1][:2]\n",
    "listem3"
   ]
  },
  {
   "cell_type": "markdown",
   "id": "7d55b88a-d277-46a3-a42b-84a96f29452a",
   "metadata": {},
   "source": [
    "11- \"listem2\" değişkenine Listem3 değişkenini ELEMAN olarak ekleyiniz."
   ]
  },
  {
   "cell_type": "code",
   "execution_count": 113,
   "id": "a52158db-e9fa-42af-8a4f-7089f38ca543",
   "metadata": {},
   "outputs": [
    {
     "data": {
      "text/plain": [
       "[['27', 'Eskişehir', '2.82'], ['Ali', 90, 'Mehmet'], 'Ali', 90]"
      ]
     },
     "execution_count": 113,
     "metadata": {},
     "output_type": "execute_result"
    }
   ],
   "source": [
    "for i in listem3:\n",
    "    listem2.append(i)\n",
    "    \n",
    "listem2"
   ]
  },
  {
   "cell_type": "markdown",
   "id": "d1026cbb-359d-41a8-b826-45db7448f895",
   "metadata": {},
   "source": [
    "12- \"listem2\" içerisinden 90 elemanını siliniz."
   ]
  },
  {
   "cell_type": "code",
   "execution_count": 114,
   "id": "1fb7f788-ae06-4c67-a32a-480894afcb42",
   "metadata": {
    "tags": []
   },
   "outputs": [
    {
     "data": {
      "text/plain": [
       "[['27', 'Eskişehir', '2.82'], ['Ali', 90, 'Mehmet'], 'Ali']"
      ]
     },
     "execution_count": 114,
     "metadata": {},
     "output_type": "execute_result"
    }
   ],
   "source": [
    "listem2.remove(90)\n",
    "listem2"
   ]
  },
  {
   "cell_type": "markdown",
   "id": "844e685e-c40e-45b5-8668-470399c158b5",
   "metadata": {
    "tags": []
   },
   "source": [
    "13- 1'den 10'a kadar tüm rakamları azalacak şekilde sıralanmış şekilde bir liste oluşturunuz. \"yeni_liste\" değişkenine atayınız."
   ]
  },
  {
   "cell_type": "code",
   "execution_count": null,
   "id": "e39eba12-cbfd-4dde-8321-2e846622b89e",
   "metadata": {},
   "outputs": [],
   "source": [
    "yeni_liste=[10,9,8,7,6,5,4,3,2,1]"
   ]
  },
  {
   "cell_type": "markdown",
   "id": "27566aff-4d25-4f36-b477-30cc800772a0",
   "metadata": {},
   "source": [
    "14- \"yeni_liste\" değişkeninin içerisindeki 7 ve 2 elemanlarının yerlerini belirtiniz."
   ]
  },
  {
   "cell_type": "code",
   "execution_count": 119,
   "id": "bdd9d378-a7f9-4fb1-b76e-4e3d463f3310",
   "metadata": {},
   "outputs": [
    {
     "data": {
      "text/plain": [
       "3"
      ]
     },
     "execution_count": 119,
     "metadata": {},
     "output_type": "execute_result"
    }
   ],
   "source": [
    "yeni_liste.index(7)"
   ]
  },
  {
   "cell_type": "code",
   "execution_count": 120,
   "id": "112791f1-1c6a-4715-b941-96791445db3e",
   "metadata": {},
   "outputs": [
    {
     "data": {
      "text/plain": [
       "8"
      ]
     },
     "execution_count": 120,
     "metadata": {},
     "output_type": "execute_result"
    }
   ],
   "source": [
    "yeni_liste.index(2)"
   ]
  },
  {
   "cell_type": "markdown",
   "id": "028d1129-dc6f-4c8c-8d16-a1979a0477bf",
   "metadata": {
    "tags": []
   },
   "source": [
    "15- \"listem2\" üzerinden tuple oluşturunuz ve \"tuple1\" adını veriniz"
   ]
  },
  {
   "cell_type": "code",
   "execution_count": 122,
   "id": "dabbbdd3-134c-424a-a600-3cf9d1709cad",
   "metadata": {},
   "outputs": [
    {
     "data": {
      "text/plain": [
       "(['27', 'Eskişehir', '2.82'], ['Ali', 90, 'Mehmet'], 'Ali')"
      ]
     },
     "execution_count": 122,
     "metadata": {},
     "output_type": "execute_result"
    }
   ],
   "source": [
    "tuple1=tuple(listem2)\n",
    "tuple1"
   ]
  },
  {
   "cell_type": "markdown",
   "id": "49a17cb5-ecd5-42b9-97fd-c4b830063500",
   "metadata": {
    "tags": []
   },
   "source": [
    "16- \"tuple1\" değişkeni içerisindeki \"Ali\" yerine \"Veli\" yazınız."
   ]
  },
  {
   "cell_type": "code",
   "execution_count": 123,
   "id": "3ce1a126-a34c-40f9-bca3-77a03745142d",
   "metadata": {},
   "outputs": [
    {
     "ename": "AttributeError",
     "evalue": "'tuple' object has no attribute 'replace'",
     "output_type": "error",
     "traceback": [
      "\u001b[1;31m---------------------------------------------------------------------------\u001b[0m",
      "\u001b[1;31mAttributeError\u001b[0m                            Traceback (most recent call last)",
      "Input \u001b[1;32mIn [123]\u001b[0m, in \u001b[0;36m<cell line: 1>\u001b[1;34m()\u001b[0m\n\u001b[1;32m----> 1\u001b[0m \u001b[43mtuple1\u001b[49m\u001b[38;5;241;43m.\u001b[39;49m\u001b[43mreplace\u001b[49m(\u001b[38;5;124m\"\u001b[39m\u001b[38;5;124mAli\u001b[39m\u001b[38;5;124m\"\u001b[39m,\u001b[38;5;124m\"\u001b[39m\u001b[38;5;124mVeli\u001b[39m\u001b[38;5;124m\"\u001b[39m)\n",
      "\u001b[1;31mAttributeError\u001b[0m: 'tuple' object has no attribute 'replace'"
     ]
    }
   ],
   "source": [
    "tuple1.replace(\"Ali\",\"Veli\") #Tuple elemanı değiştirelemez."
   ]
  },
  {
   "cell_type": "markdown",
   "id": "b7bd6f45-4c77-476c-b41a-0f717f320389",
   "metadata": {},
   "source": [
    "17- 1'den 10'a kadar tüm rakamları azalacak şekilde sıralanmış şekilde bir tuple oluşturunuz. \"yeni_tuple\" değişkenine atayınız. (NOT: methodu siz bulacaksınız)"
   ]
  },
  {
   "cell_type": "code",
   "execution_count": 133,
   "id": "89f0d6bd-1cb2-45a3-9d2e-0b86edb8aa78",
   "metadata": {},
   "outputs": [
    {
     "data": {
      "text/plain": [
       "(10, 9, 8, 7, 6, 5, 4, 3, 2, 1)"
      ]
     },
     "execution_count": 133,
     "metadata": {},
     "output_type": "execute_result"
    }
   ],
   "source": [
    "yeni_tuple = tuple(i for i in range(10,0,-1))\n",
    "yeni_tuple"
   ]
  },
  {
   "cell_type": "markdown",
   "id": "6216e50d-de9d-4e74-b243-9a000041d7eb",
   "metadata": {},
   "source": [
    "18- \"yeni_tuple\" değişkeninin içerisindeki 7 ve 2 elemanlarının yerlerini belirtiniz."
   ]
  },
  {
   "cell_type": "code",
   "execution_count": 139,
   "id": "5b932ffa-08aa-4d92-bfca-fe98c3d9b7fd",
   "metadata": {
    "tags": []
   },
   "outputs": [
    {
     "name": "stdout",
     "output_type": "stream",
     "text": [
      "8\n",
      "3\n"
     ]
    }
   ],
   "source": [
    "liste=[2,7]\n",
    "for i in liste:\n",
    "    x=yeni_tuple.index(i)\n",
    "    print(x)"
   ]
  },
  {
   "cell_type": "markdown",
   "id": "91b74e65-d5b7-4d1d-a1fd-7d8480640314",
   "metadata": {},
   "source": [
    "19- Aşağıda yer alan dictionary'nin içinden REG'in RMSE değerini, LOG'un MSE değerini ve CART'ın SSE değerini ayrı ayrı çekip yeni bir SET oluşturunuz. "
   ]
  },
  {
   "cell_type": "code",
   "execution_count": 162,
   "id": "4d349e7c-ca59-4a0e-b377-83f785301b92",
   "metadata": {},
   "outputs": [],
   "source": [
    "dictionary = {\"REG\": [\"RMSE\", 10],\n",
    "              \"LOG\": [\"MSE\", 20],\n",
    "              \"CART\": [\"SSE\", 10]}"
   ]
  },
  {
   "cell_type": "code",
   "execution_count": 163,
   "id": "1d7e36c8-23ff-4b20-a86a-522a589a9597",
   "metadata": {},
   "outputs": [
    {
     "name": "stdout",
     "output_type": "stream",
     "text": [
      "10 20 10\n"
     ]
    }
   ],
   "source": [
    "print(dictionary[\"REG\"][1],\n",
    "dictionary[\"LOG\"][1],\n",
    "dictionary[\"CART\"][1])\n"
   ]
  },
  {
   "cell_type": "markdown",
   "id": "f519a647-99bd-4fda-b276-800020d6f083",
   "metadata": {
    "tags": []
   },
   "source": [
    "20- CART değerini [\"SSE\", 30] olarak değiştiriniz. "
   ]
  },
  {
   "cell_type": "code",
   "execution_count": 164,
   "id": "cee12e1c-f697-4ae4-9155-d1adbaac78c5",
   "metadata": {},
   "outputs": [
    {
     "data": {
      "text/plain": [
       "{'REG': ['RMSE', 10], 'LOG': ['MSE', 20], 'CART': ['SSE', 30]}"
      ]
     },
     "execution_count": 164,
     "metadata": {},
     "output_type": "execute_result"
    }
   ],
   "source": [
    "dictionary[\"CART\"]=[\"SSE\", 30]\n",
    "dictionary"
   ]
  },
  {
   "cell_type": "markdown",
   "id": "32a58270-b709-4f3d-86dd-15d3e17e06d6",
   "metadata": {
    "tags": []
   },
   "source": [
    "21- Sözlüğe yeni bir \"RF\" key değeri ekleyerek value'sunu [\"SSE\", 50] olarak tanımlayınız.  "
   ]
  },
  {
   "cell_type": "code",
   "execution_count": 165,
   "id": "fc9060dc-c7b7-4e8d-9a98-14b9a922caa8",
   "metadata": {},
   "outputs": [
    {
     "data": {
      "text/plain": [
       "{'REG': ['RMSE', 10],\n",
       " 'LOG': ['MSE', 20],\n",
       " 'CART': ['SSE', 30],\n",
       " 'RF': ['SSE', 50]}"
      ]
     },
     "execution_count": 165,
     "metadata": {},
     "output_type": "execute_result"
    }
   ],
   "source": [
    "dictionary[\"RF\"]=[\"SSE\", 50]\n",
    "dictionary"
   ]
  },
  {
   "cell_type": "markdown",
   "id": "bb2fcb9d-2101-4af8-a5ff-94820609524f",
   "metadata": {},
   "source": [
    "22- Aşağıda yer alan listeyi SET'e çeviriniz, \"set1\" adını veriniz ve içindeki eleman sayısını söyleyiniz. "
   ]
  },
  {
   "cell_type": "code",
   "execution_count": 168,
   "id": "1ec08309-674f-4d0c-afaf-78dbaecd738b",
   "metadata": {},
   "outputs": [],
   "source": [
    "liste1 = [10, 20, 10, \"Ali\", 10, \"Ali\", \"Mehmet\", 20, \"Ayşe\" ]"
   ]
  },
  {
   "cell_type": "code",
   "execution_count": 177,
   "id": "387875fd-3392-4d76-ae39-a27813260bef",
   "metadata": {},
   "outputs": [
    {
     "data": {
      "text/plain": [
       "{10, 20, 'Ali', 'Ayşe', 'Mehmet'}"
      ]
     },
     "execution_count": 177,
     "metadata": {},
     "output_type": "execute_result"
    }
   ],
   "source": [
    "set1=set(liste1)\n",
    "set1"
   ]
  },
  {
   "cell_type": "markdown",
   "id": "db0e1841-c521-426f-ba47-38c3fa0d3a45",
   "metadata": {},
   "source": [
    "23- \"set1\" kümesinin içinden 5. eleman ile 7. elemanı çekiniz. "
   ]
  },
  {
   "cell_type": "code",
   "execution_count": 172,
   "id": "d2aa1687-e921-4324-8cfc-e7d40d8ac932",
   "metadata": {},
   "outputs": [
    {
     "ename": "TypeError",
     "evalue": "'set' object is not subscriptable",
     "output_type": "error",
     "traceback": [
      "\u001b[1;31m---------------------------------------------------------------------------\u001b[0m",
      "\u001b[1;31mTypeError\u001b[0m                                 Traceback (most recent call last)",
      "Input \u001b[1;32mIn [172]\u001b[0m, in \u001b[0;36m<cell line: 1>\u001b[1;34m()\u001b[0m\n\u001b[1;32m----> 1\u001b[0m \u001b[38;5;28mprint\u001b[39m(\u001b[43mset1\u001b[49m\u001b[43m[\u001b[49m\u001b[38;5;241;43m0\u001b[39;49m\u001b[43m]\u001b[49m)\n",
      "\u001b[1;31mTypeError\u001b[0m: 'set' object is not subscriptable"
     ]
    }
   ],
   "source": [
    "print(set1[0]) #SET sırasızdır."
   ]
  },
  {
   "cell_type": "markdown",
   "id": "26a8ccb1-6f47-4ab1-8af1-30e49fca6a57",
   "metadata": {},
   "source": [
    "24- \"set1\" kümesinde yer alan \"Ali\" yerine \"Veli\" ve 10 yerini \"40\" değerlerini ekleyiniz.  "
   ]
  },
  {
   "cell_type": "code",
   "execution_count": 178,
   "id": "4d855cb4-d570-4d55-acc5-e087cf1da6f7",
   "metadata": {},
   "outputs": [
    {
     "data": {
      "text/plain": [
       "{20, 40, 'Ayşe', 'Mehmet', 'Veli'}"
      ]
     },
     "execution_count": 178,
     "metadata": {},
     "output_type": "execute_result"
    }
   ],
   "source": [
    "set1.remove(\"Ali\")\n",
    "set1.add(\"Veli\")\n",
    "set1\n",
    "set1.remove(10)\n",
    "set1.add(40)\n",
    "set1"
   ]
  },
  {
   "cell_type": "markdown",
   "id": "dcc0cc95-ae87-4098-a6c5-0a11aa1a03d5",
   "metadata": {},
   "source": [
    "25- **ZOR SORU** aşağıda yer alan kümeler için soruları cevaplayınız. (Küme methodları kullanılabilir.)"
   ]
  },
  {
   "cell_type": "code",
   "execution_count": 186,
   "id": "14c1f0e3-022a-4ff9-a9d2-272c34df2e3c",
   "metadata": {},
   "outputs": [],
   "source": [
    "set1 = set([1, 3, 5])\n",
    "set2 = set([1, 2, 3])"
   ]
  },
  {
   "cell_type": "markdown",
   "id": "d9c66f31-e0ef-42c9-bca3-730c24ea2a2c",
   "metadata": {},
   "source": [
    "25.1- set1'de olup set2'de olmayanlar hangileridir? (difference())"
   ]
  },
  {
   "cell_type": "code",
   "execution_count": 181,
   "id": "513118b5-136c-4a6c-997d-24e6e1cfc273",
   "metadata": {},
   "outputs": [
    {
     "data": {
      "text/plain": [
       "{5}"
      ]
     },
     "execution_count": 181,
     "metadata": {},
     "output_type": "execute_result"
    }
   ],
   "source": [
    "set1.difference(set2)"
   ]
  },
  {
   "cell_type": "markdown",
   "id": "0983e4ae-89d7-4502-9c14-17e44233d702",
   "metadata": {},
   "source": [
    "25.2- set2'de olup set1'de olmayanlar hangileridir? (difference())"
   ]
  },
  {
   "cell_type": "code",
   "execution_count": 183,
   "id": "638bc57f-a3dc-48b6-8e48-c48f44164ff1",
   "metadata": {},
   "outputs": [
    {
     "data": {
      "text/plain": [
       "{2}"
      ]
     },
     "execution_count": 183,
     "metadata": {},
     "output_type": "execute_result"
    }
   ],
   "source": [
    "set2.difference(set1)"
   ]
  },
  {
   "cell_type": "markdown",
   "id": "a5a7587c-91c6-4879-b582-ae8871b8e69b",
   "metadata": {},
   "source": [
    "25.3- İki kümede de birbirlerine göre olmayanlar hangileridir? (symmetric_difference())"
   ]
  },
  {
   "cell_type": "code",
   "execution_count": 187,
   "id": "8b98a930-e631-4b1c-aa90-f741d42a6ab0",
   "metadata": {},
   "outputs": [
    {
     "data": {
      "text/plain": [
       "{2, 5}"
      ]
     },
     "execution_count": 187,
     "metadata": {},
     "output_type": "execute_result"
    }
   ],
   "source": [
    "set2.symmetric_difference(set1)"
   ]
  },
  {
   "cell_type": "markdown",
   "id": "c7d42cd1-c13d-4d4d-8076-3cab3e5e4791",
   "metadata": {},
   "source": [
    "25.4- İki kümenin kesişimi nedir? (intersection())"
   ]
  },
  {
   "cell_type": "code",
   "execution_count": 188,
   "id": "d0ea7f51-0c85-43c9-9ed6-373b30c80dab",
   "metadata": {},
   "outputs": [
    {
     "data": {
      "text/plain": [
       "{1, 3}"
      ]
     },
     "execution_count": 188,
     "metadata": {},
     "output_type": "execute_result"
    }
   ],
   "source": [
    "set1.intersection(set2)"
   ]
  },
  {
   "cell_type": "markdown",
   "id": "51917b33-b708-4e02-aa1b-eb4053e45612",
   "metadata": {},
   "source": [
    "25.5- İki kümenin birleşimi nedir? (union())"
   ]
  },
  {
   "cell_type": "code",
   "execution_count": 189,
   "id": "6a28fa5e-49b8-4da8-b18e-569f5b47987b",
   "metadata": {},
   "outputs": [
    {
     "data": {
      "text/plain": [
       "{1, 2, 3, 5}"
      ]
     },
     "execution_count": 189,
     "metadata": {},
     "output_type": "execute_result"
    }
   ],
   "source": [
    "set1.union(set2)"
   ]
  },
  {
   "cell_type": "markdown",
   "id": "223d3e00-95f8-43b7-898e-ab3a8908b4c9",
   "metadata": {},
   "source": [
    "25.6- İki kümenin kesişimi boş mudur? (isdisjoint())"
   ]
  },
  {
   "cell_type": "code",
   "execution_count": 190,
   "id": "2f38083d-8bd9-47ef-a49c-f510b49646ae",
   "metadata": {},
   "outputs": [
    {
     "data": {
      "text/plain": [
       "False"
      ]
     },
     "execution_count": 190,
     "metadata": {},
     "output_type": "execute_result"
    }
   ],
   "source": [
    "set1.isdisjoint(set2)"
   ]
  },
  {
   "cell_type": "markdown",
   "id": "30096636-70be-47f5-bddd-27db6587fd36",
   "metadata": {},
   "source": [
    "25.7- Bir küme diğer kümenin alt kümesi midir? (issubset())"
   ]
  },
  {
   "cell_type": "code",
   "execution_count": 191,
   "id": "c5c476cd-a9df-4f01-917d-6286fefe6c42",
   "metadata": {},
   "outputs": [
    {
     "data": {
      "text/plain": [
       "False"
      ]
     },
     "execution_count": 191,
     "metadata": {},
     "output_type": "execute_result"
    }
   ],
   "source": [
    "set1.issubset(set2)"
   ]
  },
  {
   "cell_type": "markdown",
   "id": "6c987f14-f2ec-46fd-a30a-92cdf0d68e59",
   "metadata": {},
   "source": [
    "25.8- Bir küme diğer kümeyi kapsıyor mudur? (issuperset())"
   ]
  },
  {
   "cell_type": "code",
   "execution_count": 197,
   "id": "d6f3104d-845c-4643-9510-dbd9d01115dd",
   "metadata": {},
   "outputs": [
    {
     "data": {
      "text/plain": [
       "False"
      ]
     },
     "execution_count": 197,
     "metadata": {},
     "output_type": "execute_result"
    }
   ],
   "source": [
    "set1.issuperset(set2) "
   ]
  },
  {
   "cell_type": "markdown",
   "id": "7f98af2c-26bf-4e7f-90c6-b9cb108aa234",
   "metadata": {},
   "source": [
    "26- Maaslara yuzde 20 zam yaparak zamlı_maaslar listesine atayınız. (Function, For kullanarak)"
   ]
  },
  {
   "cell_type": "code",
   "execution_count": 205,
   "id": "2cd821bc-4ae1-482c-877a-50e163045e24",
   "metadata": {
    "tags": []
   },
   "outputs": [],
   "source": [
    "maaslar = [1000,2000,3000,4000,5000]"
   ]
  },
  {
   "cell_type": "code",
   "execution_count": 204,
   "id": "c0f8abaa-b527-4ef4-8d34-d7838455d416",
   "metadata": {},
   "outputs": [
    {
     "name": "stdout",
     "output_type": "stream",
     "text": [
      "[1200, 2400, 3600, 4800, 6000]\n"
     ]
    }
   ],
   "source": [
    "zamli_maaslar=[]\n",
    "for maas in maaslar:\n",
    "    x=maas*1.2\n",
    "    zamli_maaslar.append(int(x))\n",
    "print(zamli_maaslar) "
   ]
  },
  {
   "cell_type": "code",
   "execution_count": 213,
   "id": "bd9892b3-4cff-45a3-8d31-22280f051565",
   "metadata": {
    "tags": []
   },
   "outputs": [
    {
     "data": {
      "text/plain": [
       "[1200, 2400, 3600, 4800, 6000]"
      ]
     },
     "execution_count": 213,
     "metadata": {},
     "output_type": "execute_result"
    }
   ],
   "source": [
    "zamli_maaslar=[int(i*1.2) for i in maaslar]\n",
    "zamli_maaslar\n",
    "\n"
   ]
  },
  {
   "cell_type": "markdown",
   "id": "3f110d62-a678-4067-a798-7ed68df5190c",
   "metadata": {},
   "source": [
    "27- zamlı_maaslar listesinden 2500 TL altındakileriden 50 TL vergi; 2500 TL  üzerindekilerden 100 TL vergi kesiniz. (Function, For, If kullanarak)"
   ]
  },
  {
   "cell_type": "code",
   "execution_count": 216,
   "id": "32e00308-a92c-49aa-aa71-d7d477a50684",
   "metadata": {},
   "outputs": [
    {
     "data": {
      "text/plain": [
       "[1150, 2350, 3500, 4700, 5900]"
      ]
     },
     "execution_count": 216,
     "metadata": {},
     "output_type": "execute_result"
    }
   ],
   "source": [
    "def kesinti(maaslar):\n",
    "    kesintilimaaslar=[]\n",
    "    for maas in maaslar:\n",
    "        if maas<2500:\n",
    "            kesinti_miktari=50\n",
    "        else:\n",
    "            kesinti_miktari=100\n",
    "        kesintilimaas=maas-kesinti_miktari\n",
    "        kesintilimaaslar.append(kesintilimaas)\n",
    "    return kesintilimaaslar\n",
    "yenimaaslar=kesinti(zamli_maaslar)\n",
    "yenimaaslar"
   ]
  },
  {
   "cell_type": "markdown",
   "id": "00f9cc91-e415-4a26-b594-a227428f81e2",
   "metadata": {},
   "source": [
    "28- Listedeki öğrencileri index numaralarına göre iki gruba tek bir listede return edecek bir fonksiyonla yapınız."
   ]
  },
  {
   "cell_type": "code",
   "execution_count": 5,
   "id": "4599a095-5edd-488a-aedd-0117f26e1538",
   "metadata": {
    "tags": []
   },
   "outputs": [],
   "source": [
    "students = [\"John\", \"Mark\", \"Venessa\", \"Mariam\"]"
   ]
  },
  {
   "cell_type": "code",
   "execution_count": 9,
   "id": "983d5423-abb3-4f01-a0bf-8e693844e228",
   "metadata": {},
   "outputs": [
    {
     "name": "stdout",
     "output_type": "stream",
     "text": [
      "[(0, 'John'), (1, 'Mark'), (2, 'Venessa'), (3, 'Mariam')]\n"
     ]
    }
   ],
   "source": [
    "a=list()\n",
    "for i in enumerate(students):\n",
    "    a.append(i)\n",
    "print(a)"
   ]
  },
  {
   "cell_type": "markdown",
   "id": "1cb1ed9b-9c8e-4f06-8e50-687d49321608",
   "metadata": {
    "tags": []
   },
   "source": [
    "29- Aşağıdaki şekilde string'i değiştirecek bir fonksiyon yazınız.\n",
    "\n",
    "    before: \"hi my name is john and i am learning python\"\n",
    "\n",
    "    after: \"Hi mY NaMe iS JoHn aNd i aM LeArNiNg pYtHoN\"\n"
   ]
  },
  {
   "cell_type": "code",
   "execution_count": 17,
   "id": "abe002c8-8886-475c-a7f0-3c42a0c9e020",
   "metadata": {},
   "outputs": [
    {
     "name": "stdout",
     "output_type": "stream",
     "text": [
      "Hi mY NaMe iS JoHn aNd i aM LeArNiNg pYtHoN\n"
     ]
    }
   ],
   "source": [
    "def alternating(string):\n",
    "    new_string = \"\"\n",
    "\n",
    "    for string_index in range(len(string)):\n",
    "        if string_index % 2 == 0:\n",
    "            new_string += string[string_index].upper()\n",
    "        else:\n",
    "            new_string += string[string_index].lower()\n",
    "\n",
    "    print(new_string)\n",
    "\n",
    "alternating(\"hi my name is john and i am learning python\")"
   ]
  },
  {
   "cell_type": "code",
   "execution_count": 11,
   "id": "d62174a5-7e59-4b34-87b2-44abed242a82",
   "metadata": {},
   "outputs": [
    {
     "name": "stdout",
     "output_type": "stream",
     "text": [
      "Hi mY NaMe iS JoHn aNd i aM LeArNiNg pYtHoN\n"
     ]
    }
   ],
   "source": [
    "def alternating(string):\n",
    "    new_string = \"\"\n",
    "\n",
    "    for string_index in range(len(string)):\n",
    "        if string_index % 2 == 0:\n",
    "            new_string += string[string_index].upper()\n",
    "        else:\n",
    "            new_string += string[string_index].lower()\n",
    "\n",
    "    print(new_string)\n",
    "\n",
    "alternating(\"hi my name is john and i am learning python\")"
   ]
  },
  {
   "cell_type": "markdown",
   "id": "5ffd1e11-7854-4d30-b7ca-3dfba89f306d",
   "metadata": {},
   "source": [
    "30- Yukarıda yer alan fonksiyonu enumerate kullanarak yeniden yazınız."
   ]
  },
  {
   "cell_type": "code",
   "execution_count": 63,
   "id": "630678df-443d-48e1-8915-c9d01823eed7",
   "metadata": {},
   "outputs": [
    {
     "name": "stdout",
     "output_type": "stream",
     "text": [
      "Hi mY NaMe iS JoHn aNd i aM LeArNiNg pYtHoN\n"
     ]
    }
   ],
   "source": [
    "string= \"hi my name is john and i am learning python\"\n",
    "new_string=\"\"\n",
    "for i, char in enumerate(string):\n",
    "   \n",
    "    if i % 2 == 0:\n",
    "        new_string += char.upper()\n",
    "    else:\n",
    "        new_string += char.lower()\n",
    "        \n",
    "print(new_string)\n",
    "    "
   ]
  },
  {
   "cell_type": "markdown",
   "id": "5bebf11b-b33e-4bc7-a7be-786501dfa89c",
   "metadata": {
    "tags": []
   },
   "source": [
    "31-Kullanıcıdan ismini ve yasını alacak bir fonksiyon olusturunuz. \n",
    "Fonksiyon çıktısı aşağıdaki şekilde olmalı:\n",
    "\n",
    "    Merhaba benim ismim X,\n",
    "    Y yasındayım!"
   ]
  },
  {
   "cell_type": "code",
   "execution_count": 38,
   "id": "2505cf13-df48-4296-815d-352be1306586",
   "metadata": {
    "tags": []
   },
   "outputs": [
    {
     "name": "stdin",
     "output_type": "stream",
     "text": [
      "Lütfen isminizi giriniz. Cemre\n",
      "Lütfen yaşınızı giriniz 27\n"
     ]
    },
    {
     "name": "stdout",
     "output_type": "stream",
     "text": [
      "Merhaba,benim ismim Cemre , 27 yaşındayım!\n"
     ]
    }
   ],
   "source": [
    "ad=input(\"Lütfen isminizi giriniz.\")\n",
    "yas=input(\"Lütfen yaşınızı giriniz\")\n",
    "print('Merhaba,benim ismim',ad,\",\",yas,\"yaşındayım!\" )"
   ]
  }
 ],
 "metadata": {
  "kernelspec": {
   "display_name": "Python 3 (ipykernel)",
   "language": "python",
   "name": "python3"
  },
  "language_info": {
   "codemirror_mode": {
    "name": "ipython",
    "version": 3
   },
   "file_extension": ".py",
   "mimetype": "text/x-python",
   "name": "python",
   "nbconvert_exporter": "python",
   "pygments_lexer": "ipython3",
   "version": "3.9.12"
  }
 },
 "nbformat": 4,
 "nbformat_minor": 5
}
